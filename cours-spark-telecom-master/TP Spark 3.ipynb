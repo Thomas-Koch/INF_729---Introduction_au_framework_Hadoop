{
 "cells": [
  {
   "cell_type": "markdown",
   "metadata": {},
   "source": [
    "----------------\n",
    "# <center>TP Spark 3 : Machine learning avec Spark</center>\n",
    "-------------------\n",
    "\n",
    "## Chargement du DataFrame\n",
    "\n",
    "Charger le DataFrame obtenu à la fin du TP 2."
   ]
  },
  {
   "cell_type": "code",
   "execution_count": 19,
   "metadata": {},
   "outputs": [
    {
     "name": "stdout",
     "output_type": "stream",
     "text": [
      "Training Dataframe\n",
      "+--------------+--------------------+--------------------+------+--------------------+------------+--------+---------+-------------+-----------+--------------------+\n",
      "|    project_id|                name|                desc|  goal|            keywords|final_status|country2|currency2|days_campaign|hours_prepa|                text|\n",
      "+--------------+--------------------+--------------------+------+--------------------+------------+--------+---------+-------------+-----------+--------------------+\n",
      "| kkst106359630|matthew francis a...|a new ep from a m...|  1000|matthew-francis-a...|           1|      US|      USD|           14|    821.123|matthew francis a...|\n",
      "|kkst1504658925|launch bossfm - d...|a group of millen...|  5000|launch-bossfm-dig...|           0|      US|      USD|           30|    566.332|launch bossfm - d...|\n",
      "|kkst1417129849|iron horse tv = m...|high energy reali...| 99000|iron-horse-tv-mus...|           0|      US|      USD|           40|     158.13|iron horse tv = m...|\n",
      "| kkst344397801|treachery in beat...|use a mix of braw...| 49000|treachery-in-beat...|           0|      US|      USD|           30|     341.14|treachery in beat...|\n",
      "|kkst1579286256|              piplay|the raspberry pi ...|  2500|              pimame|           1|      US|      USD|           30|   5352.849|piplay the raspbe...|\n",
      "|kkst1830988023|civil rights for ...|a book examining ...|  1913|civil-rights-for-...|           0|      US|      USD|           19|    616.612|civil rights for ...|\n",
      "| kkst223042566|setting up colleg...|a radio station o...| 50000|setting-up-colleg...|           0|      GB|      GBP|           30|    457.908|setting up colleg...|\n",
      "|kkst1215073397|the love book ~ a...|this book is magi...| 10500|the-love-book-an-...|           0|      CA|      CAD|           30|    295.172|the love book ~ a...|\n",
      "| kkst766566239|        monstrous...|a cop and three m...| 37500|         monstrous-2|           0|      US|      USD|           30|      3.201|monstrous... a co...|\n",
      "|kkst1663335468|seas of iron risi...| if you want to g...|  2500|seas-of-iron-risi...|           1|      US|      USD|           29|    423.736|seas of iron risi...|\n",
      "| kkst424810908|limited edition s...|i m going to prod...| 17500|limited-edition-s...|           0|      US|      USD|           42|     19.786|limited edition s...|\n",
      "|kkst1594213921|support a single mom|i am on a mission...|  7000|    touring-overseas|           0|      US|      USD|           30|    455.758|support a single ...|\n",
      "|kkst1170932031|\"heaven invades h...| crushed diamonds...| 11000|heaven-invades-ho...|           0|      US|      USD|           30|    499.769|\"heaven invades h...|\n",
      "| kkst698392497|the persistence o...|a gallery event f...| 26000|the-persistence-o...|           0|      US|      USD|           30|   2643.546|the persistence o...|\n",
      "|kkst1425963755|album 3 - let's d...|power to the peop...|  3500|album-3-lets-danc...|           0|      GB|      GBP|           30|      13.93|album 3 - let's d...|\n",
      "| kkst961046443|\"\"\"\"\"\"\"\"\"\"\"\"\"\"\"\"\"...|debut album + tou...|  1000|the-book-of-life-...|           0|      US|      USD|           23|      211.0|\"\"\"\"\"\"\"\"\"\"\"\"\"\"\"\"\"...|\n",
      "| kkst241692000|something else: a...|working with peru...|  2000|something-else-a-...|           0|      GB|      GBP|           40|     78.396|something else: a...|\n",
      "| kkst177375514|kirins fantasy tr...|a race of tiny ma...| 12800|kirins-fantasy-tr...|           0|      US|      USD|           31|    719.179|kirins fantasy tr...|\n",
      "|kkst1245108404|   outcast reboot hd|taking one of the...|600000|   outcast-reboot-hd|           0|      US|      USD|           30|    772.349|outcast reboot hd...|\n",
      "| kkst757796615|      tales of ateon|enter a world of ...|   200|      tales-of-ateon|           1|      US|      USD|           30|     16.438|tales of ateon en...|\n",
      "+--------------+--------------------+--------------------+------+--------------------+------------+--------+---------+-------------+-----------+--------------------+\n",
      "only showing top 20 rows\n",
      "\n"
     ]
    },
    {
     "data": {
      "text/plain": [
       "import org.apache.spark.sql.DataFrame\n",
       "df: org.apache.spark.sql.DataFrame = [project_id: string, name: string ... 9 more fields]\n"
      ]
     },
     "execution_count": 19,
     "metadata": {},
     "output_type": "execute_result"
    }
   ],
   "source": [
    "import org.apache.spark.sql.DataFrame\n",
    "\n",
    "val df: DataFrame = spark\n",
    "  .read\n",
    "  .option(\"header\", true) // utilise la première ligne du (des) fichier(s) comme header\n",
    "  .option(\"inferSchema\", \"true\") // pour inférer le type de chaque colonne (Int, String, etc.)\n",
    "  .parquet(\"/home/p5hngk/Downloads/GitHub/INF_729---Introduction_au_framework_Hadoop/cours-spark-telecom-master/monDataFrameFinal\") //data/prepared_trainingset\")  monDataFrameFinal\n",
    "\n",
    "println(\"Training Dataframe\")\n",
    "df.show()"
   ]
  },
  {
   "cell_type": "code",
   "execution_count": 20,
   "metadata": {},
   "outputs": [
    {
     "name": "stdout",
     "output_type": "stream",
     "text": [
      "root\n",
      " |-- project_id: string (nullable = true)\n",
      " |-- name: string (nullable = true)\n",
      " |-- desc: string (nullable = true)\n",
      " |-- goal: integer (nullable = true)\n",
      " |-- keywords: string (nullable = true)\n",
      " |-- final_status: integer (nullable = true)\n",
      " |-- country2: string (nullable = true)\n",
      " |-- currency2: string (nullable = true)\n",
      " |-- days_campaign: integer (nullable = true)\n",
      " |-- hours_prepa: double (nullable = true)\n",
      " |-- text: string (nullable = true)\n",
      "\n"
     ]
    }
   ],
   "source": [
    "df.printSchema"
   ]
  },
  {
   "cell_type": "code",
   "execution_count": 21,
   "metadata": {},
   "outputs": [
    {
     "data": {
      "text/plain": [
       "import org.apache.spark.ml.feature.{CountVectorizer, IDF, OneHotEncoderEstimator, RegexTokenizer, StringIndexer}\n",
       "import org.apache.spark.ml.feature.VectorAssembler\n",
       "import org.apache.spark.ml.classification.LogisticRegression\n",
       "import org.apache.spark.ml.feature.StopWordsRemover\n",
       "import org.apache.spark.ml.Pipeline\n",
       "import org.apache.spark.ml.evaluation.MulticlassClassificationEvaluator\n",
       "import org.apache.spark.ml.tuning.{ParamGridBuilder, TrainValidationSplit, TrainValidationSplitModel}\n"
      ]
     },
     "execution_count": 21,
     "metadata": {},
     "output_type": "execute_result"
    }
   ],
   "source": [
    "import org.apache.spark.ml.feature.{CountVectorizer, IDF, OneHotEncoderEstimator, RegexTokenizer, StringIndexer}\n",
    "import org.apache.spark.ml.feature.VectorAssembler\n",
    "import org.apache.spark.ml.classification.LogisticRegression\n",
    "import org.apache.spark.ml.feature.StopWordsRemover\n",
    "\n",
    "import org.apache.spark.ml.Pipeline\n",
    "import org.apache.spark.ml.evaluation.MulticlassClassificationEvaluator\n",
    "import org.apache.spark.ml.tuning.{ParamGridBuilder, TrainValidationSplit, TrainValidationSplitModel}"
   ]
  },
  {
   "cell_type": "markdown",
   "metadata": {},
   "source": [
    "----------------------------\n",
    "## Utilisation des données textuelles\n",
    "Les textes ne sont pas utilisables tels quels par les algorithmes parce qu’ils ont besoin de données numériques, en particulier pour les calculs d’erreurs et d’optimisation. On veut donc convertir la colonne \"text\" en données numériques. Une façon très répandue de faire cela est d’appliquer l’algorithme [TF-IDF](https://spark.apache.org/docs/latest/ml-features.html#tf-idf).\n",
    "\n",
    "### Stage 1 : récupérer les mots des textes\n",
    "La première étape est de séparer les textes en mots (ou tokens) avec un tokenizer. Construire le premier stage du pipeline de la façon suivante :\n"
   ]
  },
  {
   "cell_type": "code",
   "execution_count": 22,
   "metadata": {},
   "outputs": [
    {
     "data": {
      "text/plain": [
       "tokenizer: org.apache.spark.ml.feature.RegexTokenizer = regexTok_c9d85d422316\n"
      ]
     },
     "execution_count": 22,
     "metadata": {},
     "output_type": "execute_result"
    }
   ],
   "source": [
    "val tokenizer = new RegexTokenizer()\n",
    "  .setPattern(\"\\\\W+\")\n",
    "  .setGaps(true)\n",
    "  .setInputCol(\"text\")\n",
    "  .setOutputCol(\"tokens\")"
   ]
  },
  {
   "cell_type": "markdown",
   "metadata": {},
   "source": [
    "### Stage 2 : retirer les stops words\n",
    "\n",
    "On veut retirer les [stop words](https://en.wikipedia.org/wiki/Stop_words) pour ne pas encombrer le modèle avec des mots qui ne véhiculent pas de sens. On va donc créer le 2ème stage avec la classe `StopWordsRemover`."
   ]
  },
  {
   "cell_type": "code",
   "execution_count": 23,
   "metadata": {},
   "outputs": [
    {
     "data": {
      "text/plain": [
       "stopWordsRemover: org.apache.spark.ml.feature.StopWordsRemover = stopWords_488335ada4bb\n"
      ]
     },
     "execution_count": 23,
     "metadata": {},
     "output_type": "execute_result"
    }
   ],
   "source": [
    "val stopWordsRemover = new StopWordsRemover()\n",
    "  .setInputCol(\"tokens\")\n",
    "  .setOutputCol(\"filtered\")"
   ]
  },
  {
   "cell_type": "markdown",
   "metadata": {},
   "source": [
    "### Stage 3 : computer la partie TF\n",
    "La partie TF de TF-IDF est faite avec la classe `CountVectorizer`. Lire la [doc](https://spark.apache.org/docs/latest/ml-features.html#tf-idf) pour plus d'info sur TF-IDF et son implémentation."
   ]
  },
  {
   "cell_type": "code",
   "execution_count": 24,
   "metadata": {},
   "outputs": [
    {
     "data": {
      "text/plain": [
       "countVectorizedModel: org.apache.spark.ml.feature.CountVectorizer = cntVec_8c5c4ab5b432\n"
      ]
     },
     "execution_count": 24,
     "metadata": {},
     "output_type": "execute_result"
    }
   ],
   "source": [
    "val countVectorizedModel = new CountVectorizer()\n",
    "      .setInputCol(\"filtered\")\n",
    "      .setOutputCol(\"vectorized\")"
   ]
  },
  {
   "cell_type": "markdown",
   "metadata": {},
   "source": [
    "### Stage 4 : computer la partie IDF\n",
    "Implémentons la partie IDF avec en output une colonne ***tfidf***."
   ]
  },
  {
   "cell_type": "code",
   "execution_count": 25,
   "metadata": {},
   "outputs": [
    {
     "data": {
      "text/plain": [
       "idf: org.apache.spark.ml.feature.IDF = idf_a0096e516dfd\n"
      ]
     },
     "execution_count": 25,
     "metadata": {},
     "output_type": "execute_result"
    }
   ],
   "source": [
    "val idf = new IDF()\n",
    "      .setInputCol(\"vectorized\")\n",
    "      .setOutputCol(\"tfidf\")"
   ]
  },
  {
   "cell_type": "markdown",
   "metadata": {},
   "source": [
    "-------------------------\n",
    "## Conversion des variables catégorielles en variables numériques\n",
    "\n",
    "Les colonnes ***country2*** et ***currency2*** sont des variables catégorielles (qui ne prennent qu’un ensemble limité de valeurs, ces valeurs n'ayant, ici, aucune notion d'ordre entre elles), par opposition aux variables continues comme ***goal*** ou ***hours_prepa*** qui peuvent prendre n’importe quelle valeur réelle positive. Ici les catégories sont indiquées par une chaîne de charactères, e.g. \"US\" ou \"EUR\". On veut convertir ces classes en quantités numériques.\n",
    "\n",
    "### Stage 5 : convertir ***country2*** en quantités numériques\n",
    "\n",
    "Nous allons mettre les résultats dans une colonne ***country_indexed***."
   ]
  },
  {
   "cell_type": "code",
   "execution_count": 26,
   "metadata": {},
   "outputs": [
    {
     "data": {
      "text/plain": [
       "stringIndexer: org.apache.spark.ml.feature.StringIndexer = strIdx_e6c83c588b00\n"
      ]
     },
     "execution_count": 26,
     "metadata": {},
     "output_type": "execute_result"
    }
   ],
   "source": [
    "val stringIndexer = new StringIndexer()\n",
    "    .setInputCol(\"country2\")\n",
    "    .setOutputCol(\"country_indexed\")\n",
    "    .setHandleInvalid(\"skip\")"
   ]
  },
  {
   "cell_type": "markdown",
   "metadata": {},
   "source": [
    "### Stage 6 : convertir ***currency2*** en quantités numériques\n",
    "\n",
    "Nous allons mettre les résultats dans une colonne ***currency_indexed***."
   ]
  },
  {
   "cell_type": "code",
   "execution_count": 27,
   "metadata": {},
   "outputs": [
    {
     "data": {
      "text/plain": [
       "stringIndexer2: org.apache.spark.ml.feature.StringIndexer = strIdx_4844613326fd\n"
      ]
     },
     "execution_count": 27,
     "metadata": {},
     "output_type": "execute_result"
    }
   ],
   "source": [
    "val stringIndexer2 = new StringIndexer()\n",
    "      .setInputCol(\"currency2\")\n",
    "      .setOutputCol(\"currency_indexed\")\n",
    "      .setHandleInvalid(\"skip\")"
   ]
  },
  {
   "cell_type": "markdown",
   "metadata": {},
   "source": [
    "### Stage 7 et 8 : One-Hot encoder ces deux catégories \n",
    "Transformons ces deux catégories avec un \"one-hot encoder\" en créant les colonnes ***country_onehot*** et ***currency_onehot***. Une page [Quora](https://www.quora.com/What-is-one-hot-encoding-and-when-is-it-used-in-data-science) sur le one-hot encoding."
   ]
  },
  {
   "cell_type": "code",
   "execution_count": 28,
   "metadata": {},
   "outputs": [
    {
     "data": {
      "text/plain": [
       "oneHotEncoder: org.apache.spark.ml.feature.OneHotEncoderEstimator = oneHotEncoder_fe9e7324321b\n"
      ]
     },
     "execution_count": 28,
     "metadata": {},
     "output_type": "execute_result"
    }
   ],
   "source": [
    "val oneHotEncoder = new OneHotEncoderEstimator()\n",
    "      .setInputCols(Array(\"country_indexed\", \"currency_indexed\"))\n",
    "      .setOutputCols(Array(\"country_onehot\", \"currency_onehot\"))"
   ]
  },
  {
   "cell_type": "markdown",
   "metadata": {},
   "source": [
    "---------------\n",
    "## Mettre les données sous une forme utilisable par Spark.ML\n",
    "\n",
    "\n",
    "La plupart des algorithmes de machine learning dans Spark requièrent que les colonnes utilisées en input du modèle (les features du modèle) soient regroupées dans une seule colonne qui contient des vecteurs. On veut donc passer de :\n",
    "\n",
    "|Feature A|Feature B|Feature C|Label|\n",
    "|:---:|:---:|:---:|:---:|\n",
    "|0.5|1|3.5|0|\n",
    "|0.6|1|1.2|1|\n",
    "\n",
    "à\n",
    "\n",
    "| Features | Label |\n",
    "|:---:|:---:|\n",
    "|(0.5, 1, 3.5)|0|\n",
    "|(0.6, 1, 1.2)|1|\n",
    "\n",
    "### Stage 9 : assembler tous les features en un unique vecteur\n",
    "\n",
    "Assemblons les features ***tfidf***, ***days_campaign***, ***hours_prepa***, ***goal***, ***country_onehot***, et ***currency_onehot*** dans une seule colonne ***features***."
   ]
  },
  {
   "cell_type": "code",
   "execution_count": 29,
   "metadata": {},
   "outputs": [
    {
     "name": "stdout",
     "output_type": "stream",
     "text": [
      "OUTPUT FEATURES\n"
     ]
    },
    {
     "data": {
      "text/plain": [
       "vectorAssembler: org.apache.spark.ml.feature.VectorAssembler = vecAssembler_227fecae1130\n"
      ]
     },
     "execution_count": 29,
     "metadata": {},
     "output_type": "execute_result"
    }
   ],
   "source": [
    "val vectorAssembler = new VectorAssembler()\n",
    "      .setInputCols(Array(\"tfidf\", \"days_campaign\", \"hours_prepa\", \"goal\", \"country_onehot\", \"currency_onehot\"))\n",
    "      .setOutputCol(\"features\")\n",
    "\n",
    "println(\"OUTPUT FEATURES\")"
   ]
  },
  {
   "cell_type": "markdown",
   "metadata": {},
   "source": [
    "### Stage 10 : créer/instancier le modèle de classification\n",
    "\n",
    "Le classifieur que nous utilisons est une [régression logistique](http://spark.apache.org/docs/latest/api/scala/index.html#org.apache.spark.ml.classification.LogisticRegression) avec une régularisation dans la fonction de coût qui permet de pénaliser les features les moins fiables pour la classification.\n",
    "\n",
    "On la définit de la façon suivante :\n"
   ]
  },
  {
   "cell_type": "code",
   "execution_count": 30,
   "metadata": {},
   "outputs": [
    {
     "data": {
      "text/plain": [
       "lr: org.apache.spark.ml.classification.LogisticRegression = logreg_0642b03a727d\n"
      ]
     },
     "execution_count": 30,
     "metadata": {},
     "output_type": "execute_result"
    }
   ],
   "source": [
    "val lr = new LogisticRegression()\n",
    "  .setElasticNetParam(0.0)\n",
    "  .setFitIntercept(true)\n",
    "  .setFeaturesCol(\"features\")\n",
    "  .setLabelCol(\"final_status\")\n",
    "  .setStandardization(true)\n",
    "  .setPredictionCol(\"predictions\")\n",
    "  .setRawPredictionCol(\"raw_predictions\")\n",
    "  .setThresholds(Array(0.7, 0.3))\n",
    "  .setTol(1.0e-6)\n",
    "  .setMaxIter(20)"
   ]
  },
  {
   "cell_type": "markdown",
   "metadata": {},
   "source": [
    "-----------------------------\n",
    "## Création du Pipeline\n",
    "\n",
    "Créons maintenant le [pipeline](https://spark.apache.org/docs/latest/ml-pipeline.html#ml-pipelines) en assemblant les 10 stages définis précédemment, dans le bon ordre."
   ]
  },
  {
   "cell_type": "code",
   "execution_count": 31,
   "metadata": {},
   "outputs": [
    {
     "data": {
      "text/plain": [
       "stages10: Array[org.apache.spark.ml.PipelineStage with org.apache.spark.ml.util.DefaultParamsWritable{def copy(extra: org.apache.spark.ml.param.ParamMap): org.apache.spark.ml.PipelineStage with org.apache.spark.ml.util.DefaultParamsWritable{def copy(extra: org.apache.spark.ml.param.ParamMap): org.apache.spark.ml.PipelineStage with org.apache.spark.ml.util.DefaultParamsWritable{def copy(extra: org.apache.spark.ml.param.ParamMap): org.apache.spark.ml.PipelineStage with org.apache.spark.ml.util.DefaultParamsWritable}}}] = Array(regexTok_c9d85d422316, stopWords_488335ada4bb, cntVec_8c5c4ab5b432, idf_a0096e516dfd, strIdx_e6c83c588b00, strIdx_4844613326fd, oneHotEncoder_fe9e7324321b, vecAssembler_227fecae1130, logreg_0642b03a727d)\n",
       "pipeline: org.apache.spark.ml.Pipeline = pipeline_20ccbefec47c\n"
      ]
     },
     "execution_count": 31,
     "metadata": {},
     "output_type": "execute_result"
    }
   ],
   "source": [
    "val stages10 = Array(tokenizer, stopWordsRemover, countVectorizedModel, idf, stringIndexer, stringIndexer2, oneHotEncoder, vectorAssembler, lr)\n",
    "    val pipeline = new Pipeline().setStages(stages10)"
   ]
  },
  {
   "cell_type": "markdown",
   "metadata": {},
   "source": [
    "## Entraînement, test, et sauvegarde du modèle\n",
    "\n",
    "### Split des données en training et test sets\n",
    "\n",
    "On veut séparer les données aléatoirement en un training set (90% des données) qui servira à l’entraînement du modèle et un test set (10% des données) qui servira à tester la qualité du modèle sur des données que le modèle n’a jamais vues lors de son entraînement. Cette phase est nécessaire pour avoir des résultats non-biaisés sur la pertinence du modèle obtenu.\n",
    "\n",
    "Créons un DataFrame nommé **training** et un autre nommé **test** à partir du DataFrame chargé initialement de façon à le séparer en training et test sets dans les proportions 90%, 10% respectivement.\n"
   ]
  },
  {
   "cell_type": "code",
   "execution_count": 32,
   "metadata": {},
   "outputs": [
    {
     "data": {
      "text/plain": [
       "training: org.apache.spark.sql.Dataset[org.apache.spark.sql.Row] = [project_id: string, name: string ... 9 more fields]\n",
       "test: org.apache.spark.sql.Dataset[org.apache.spark.sql.Row] = [project_id: string, name: string ... 9 more fields]\n"
      ]
     },
     "execution_count": 32,
     "metadata": {},
     "output_type": "execute_result"
    }
   ],
   "source": [
    "val Array(training, test) = df.randomSplit(Array(0.9, 0.1), seed = 1991)"
   ]
  },
  {
   "cell_type": "markdown",
   "metadata": {},
   "source": [
    "### Entraînement du modèle\n",
    "\n",
    "Entraînons notre modèle via le pipeline que nous avons créé puis sauvegardons-le."
   ]
  },
  {
   "cell_type": "code",
   "execution_count": 33,
   "metadata": {},
   "outputs": [
    {
     "name": "stdout",
     "output_type": "stream",
     "text": [
      "Model 1 was fit using parameters: {\n",
      "\tpipeline_20ccbefec47c-stages: [Lorg.apache.spark.ml.PipelineStage;@1e1df682\n",
      "}\n"
     ]
    },
    {
     "data": {
      "text/plain": [
       "model: org.apache.spark.ml.PipelineModel = pipeline_20ccbefec47c\n"
      ]
     },
     "execution_count": 33,
     "metadata": {},
     "output_type": "execute_result"
    }
   ],
   "source": [
    "val model = pipeline.fit(training)\n",
    "println(s\"Model 1 was fit using parameters: ${model.parent.extractParamMap}\")"
   ]
  },
  {
   "cell_type": "markdown",
   "metadata": {},
   "source": [
    "### Test du modèle\n",
    "\n",
    "https://spark.apache.org/docs/latest/ml-pipeline.html\n",
    "\n",
    "https://spark.apache.org/docs/latest/ml-tuning.html\n",
    "\n",
    "* Appliquons le modèle aux données de test. Mettons les résultats dans le DataFrame `dfWithSimplePredictions`.\n",
    "\n",
    "* Affichons\n",
    "```scala\n",
    "dfWithSimplePredictions.groupBy(\"final_status\", \"predictions\").count.show()\n",
    "```\n",
    "\n"
   ]
  },
  {
   "cell_type": "code",
   "execution_count": 34,
   "metadata": {},
   "outputs": [
    {
     "name": "stdout",
     "output_type": "stream",
     "text": [
      "+------------+-----------+-----+\n",
      "|final_status|predictions|count|\n",
      "+------------+-----------+-----+\n",
      "|           1|        0.0| 1752|\n",
      "|           0|        0.0| 4907|\n",
      "|           1|        1.0| 1694|\n",
      "|           0|        1.0| 2400|\n",
      "+------------+-----------+-----+\n",
      "\n"
     ]
    },
    {
     "data": {
      "text/plain": [
       "dfWithSimplePredictions: org.apache.spark.sql.DataFrame = [project_id: string, name: string ... 21 more fields]\n"
      ]
     },
     "execution_count": 34,
     "metadata": {},
     "output_type": "execute_result"
    }
   ],
   "source": [
    "val dfWithSimplePredictions = model.transform(test)\n",
    "\n",
    "dfWithSimplePredictions.groupBy(\"final_status\", \"predictions\").count.show()"
   ]
  },
  {
   "cell_type": "markdown",
   "metadata": {},
   "source": [
    "* Affichons le [*f1-score*](https://en.wikipedia.org/wiki/F1_score) du modèle sur les données de test (cette métrique s'obtient via [MulticlassClassificationEvaluator](https://spark.apache.org/docs/latest/api/scala/index.html#org.apache.spark.ml.evaluation.MulticlassClassificationEvaluator))."
   ]
  },
  {
   "cell_type": "code",
   "execution_count": 35,
   "metadata": {},
   "outputs": [
    {
     "data": {
      "text/plain": [
       "evaluator: org.apache.spark.ml.evaluation.MulticlassClassificationEvaluator = mcEval_eecc76b5b3ea\n"
      ]
     },
     "execution_count": 35,
     "metadata": {},
     "output_type": "execute_result"
    }
   ],
   "source": [
    "val evaluator = new MulticlassClassificationEvaluator()\n",
    "    .setMetricName(\"f1\")\n",
    "    .setLabelCol(\"final_status\")\n",
    "    .setPredictionCol(\"predictions\")"
   ]
  },
  {
   "cell_type": "code",
   "execution_count": 36,
   "metadata": {},
   "outputs": [
    {
     "name": "stdout",
     "output_type": "stream",
     "text": [
      "Le f1-score est de 0.6215095121173427\n"
     ]
    },
    {
     "data": {
      "text/plain": [
       "f1score: Double = 0.6215095121173427\n"
      ]
     },
     "execution_count": 36,
     "metadata": {},
     "output_type": "execute_result"
    }
   ],
   "source": [
    "val f1score = evaluator.evaluate(dfWithSimplePredictions)\n",
    "\n",
    "println(\"Le f1-score est de \" + f1score)"
   ]
  },
  {
   "cell_type": "markdown",
   "metadata": {},
   "source": [
    "----------------------\n",
    "## Réglage des hyper-paramètres (a.k.a. tuning) du modèle\n",
    "\n",
    "La façon de procéder présentée plus haut permet rapidement d'entraîner un modèle et d'avoir une mesure de sa performance. Mais que se passe-t-il si l'ont souhaite utiliser 300 itérations au maximum plutôt que 50 (i.e. la ligne `.setMaxIter(50)`) ? Si l'on souhaite modifier le paramètre de régularisation du modèle ? Si l'on souhaite modifier le paramètre *minDF* de la classe `CountVectorizer` (qui permet de ne prendre que les mots apparaissant dans au moins minDF documents) ? Il faudrait à chaque fois modifier le(s) paramètre(s) à la main, ré-entraîner le modèle, re-calculer la performance du modèle obtenu sur l'ensemble de test, puis finalement choisir le meilleur modèle (i.e. celui avec la meilleure performance sur les données de test) parmi tous ces modèles entraînés. C'est ce qu'on appelle le réglage des hyper-paramètres ou encore tuning du modèle. Et c'est fastidieux.\n",
    "\n",
    "La plupart des algorithmes de machine learning possèdent des hyper-paramètres, par exemple le nombre de couches et de neurones dans un réseau de neurones, le nombre d’arbres et leur profondeur maximale dans les random forests, etc. Qui plus est, comme mentionné précédemment avec le paramètre *minDF* de la classe `CountVectorizer`, on peut également se retrouver avec des hyper-paramètres au niveau des stages de préprocessing. L'objectif est donc de trouver la meilleure combinaison possible de tous ces hyper-paramètres.\n",
    "\n",
    "### Grid search\n",
    "\n",
    "Une des techniques pour régler automatiquement les hyper-paramètres est la *grid search* qui consiste à :\n",
    "- créer une grille de valeurs à tester pour les hyper-paramètres\n",
    "- en chaque point de la grille\n",
    "    - séparer le training set en un ensemble de training (70%) et un ensemble de validation (30%)\n",
    "    - entraîner un modèle sur le training set\n",
    "    - calculer l’erreur du modèle sur le validation set\n",
    "- sélectionner le point de la grille (<=> garder les valeurs d’hyper-paramètres de ce point) où l’erreur de validation est la plus faible i.e. là où le modèle a le mieux appris\n",
    "\n",
    "Pour la régularisation de notre régression logistique on veut tester les valeurs de 10e-8 à 10e-2 par pas de 2.0 en échelle logarithmique (on veut tester les valeurs 10e-8, 10e-6, 10e-4 et 10e-2).\n",
    "Pour le paramètre minDF de CountVectorizer on veut tester les valeurs de 55 à 95 par pas de 20. \n",
    "En chaque point de la grille on veut utiliser 70% des données pour l’entraînement et 30% pour la validation.\n",
    "On veut utiliser le *f1-score* pour comparer les différents modèles en chaque point de la grille.\n",
    "\n",
    "Préparons la grid-search pour satisfaire les conditions explicitées ci-dessus puis lançons la grid-search sur le dataset \"training\" préparé précédemment."
   ]
  },
  {
   "cell_type": "code",
   "execution_count": 37,
   "metadata": {},
   "outputs": [
    {
     "data": {
      "text/plain": [
       "paramGrid: Array[org.apache.spark.ml.param.ParamMap] =\n",
       "Array({\n",
       "\tcntVec_8c5c4ab5b432-minDF: 55.0,\n",
       "\tlogreg_0642b03a727d-regParam: 1.0E-7\n",
       "}, {\n",
       "\tcntVec_8c5c4ab5b432-minDF: 55.0,\n",
       "\tlogreg_0642b03a727d-regParam: 1.0E-5\n",
       "}, {\n",
       "\tcntVec_8c5c4ab5b432-minDF: 55.0,\n",
       "\tlogreg_0642b03a727d-regParam: 0.001\n",
       "}, {\n",
       "\tcntVec_8c5c4ab5b432-minDF: 55.0,\n",
       "\tlogreg_0642b03a727d-regParam: 0.1\n",
       "}, {\n",
       "\tcntVec_8c5c4ab5b432-minDF: 75.0,\n",
       "\tlogreg_0642b03a727d-regParam: 1.0E-7\n",
       "}, {\n",
       "\tcntVec_8c5c4ab5b432-minDF: 75.0,\n",
       "\tlogreg_0642b03a727d-regParam: 1.0E-5\n",
       "}, {\n",
       "\tcntVec_8c5c4ab5b432-minDF: 75.0,\n",
       "\tlogreg_0642b03a727d-regParam: 0.001\n",
       "}, {\n",
       "\tcntVec_8c5c4ab5b432-minDF: 75.0,\n",
       "\tlogreg_0642b03a727d-regParam: 0.1\n",
       "}, {\n",
       "\tcntVec_8c5c4ab5b432-minDF: 95.0,\n",
       "\tlogreg_0642b03a727d-regParam: 1.0E-7\n",
       "}, {\n",
       "\tcntVec_8c5c4ab5b432-minDF: 95.0,\n",
       "\tlogreg_0642b03..."
      ]
     },
     "execution_count": 37,
     "metadata": {},
     "output_type": "execute_result"
    }
   ],
   "source": [
    "val paramGrid = new ParamGridBuilder()\n",
    "    .addGrid(lr.regParam, Array(10e-8, 10e-6, 10e-4, 10e-2))\n",
    "    .addGrid(countVectorizedModel.minDF, Array(55.0, 75.0, 95.0))\n",
    "    .build()"
   ]
  },
  {
   "cell_type": "code",
   "execution_count": 38,
   "metadata": {},
   "outputs": [
    {
     "data": {
      "text/plain": [
       "trainValidationSplit: org.apache.spark.ml.tuning.TrainValidationSplit = tvs_01e1bd0e009a\n"
      ]
     },
     "execution_count": 38,
     "metadata": {},
     "output_type": "execute_result"
    }
   ],
   "source": [
    "//  TrainValidationSplit requiert un estimateur, un set d'estimateur ParamMaps, et un Evaluator.\n",
    "val trainValidationSplit = new TrainValidationSplit()\n",
    "    .setEstimator(pipeline)\n",
    "    .setEvaluator(evaluator)\n",
    "    .setEstimatorParamMaps(paramGrid)\n",
    "    .setTrainRatio(0.7)"
   ]
  },
  {
   "cell_type": "code",
   "execution_count": 39,
   "metadata": {},
   "outputs": [
    {
     "name": "stdout",
     "output_type": "stream",
     "text": [
      "Entrainement du modèle avec l'échantillon training\n"
     ]
    },
    {
     "data": {
      "text/plain": [
       "validationModel: org.apache.spark.ml.tuning.TrainValidationSplitModel = tvs_01e1bd0e009a\n"
      ]
     },
     "execution_count": 39,
     "metadata": {},
     "output_type": "execute_result"
    }
   ],
   "source": [
    "// Entrainement du modèle avec l'échantillon training\n",
    "println(\"Entrainement du modèle avec l'échantillon training\")\n",
    "val validationModel = trainValidationSplit.fit(training)"
   ]
  },
  {
   "cell_type": "markdown",
   "metadata": {},
   "source": [
    "### Test du modèle\n",
    "\n",
    "On a vu que pour évaluer de façon non biaisée la pertinence du modèle obtenu, il fallait le tester sur des données qu'il n'avait jamais vues pendant son entraînement. Ça vaut également pour les données utilisées pour sélectionner le meilleur modèle de la grid search (training et validation)! C’est pour cela que nous avons construit le dataset de test que nous avons laissé de côté jusque là.\n",
    "\n",
    "* Appliquons le meilleur modèle trouvé avec la grid-search aux données de test. Mettons les résultats dans le DataFrame `dfWithPredictions`. Affichons le f1-score du modèle sur les données de test.\n",
    "\n",
    "* Affichons\n",
    "```scala\n",
    "dfWithPredictions.groupBy(\"final_status\", \"predictions\").count.show()\n",
    "```\n",
    "\n",
    "\n",
    "* Sauvegardons le modèle entraîné pour pouvoir le réutiliser plus tard.\n"
   ]
  },
  {
   "cell_type": "code",
   "execution_count": 40,
   "metadata": {},
   "outputs": [
    {
     "name": "stdout",
     "output_type": "stream",
     "text": [
      "+------------+-----------+-----+\n",
      "|final_status|predictions|count|\n",
      "+------------+-----------+-----+\n",
      "|           1|        0.0| 1029|\n",
      "|           0|        0.0| 4480|\n",
      "|           1|        1.0| 2417|\n",
      "|           0|        1.0| 2827|\n",
      "+------------+-----------+-----+\n",
      "\n"
     ]
    },
    {
     "data": {
      "text/plain": [
       "dfWithPredictions: org.apache.spark.sql.DataFrame = [features: vector, final_status: int ... 1 more field]\n"
      ]
     },
     "execution_count": 40,
     "metadata": {},
     "output_type": "execute_result"
    }
   ],
   "source": [
    "val dfWithPredictions = validationModel.transform(test).select(\"features\",\"final_status\",\"predictions\")\n",
    "\n",
    "dfWithPredictions.groupBy(\"final_status\", \"predictions\").count.show()"
   ]
  },
  {
   "cell_type": "code",
   "execution_count": 41,
   "metadata": {},
   "outputs": [
    {
     "name": "stdout",
     "output_type": "stream",
     "text": [
      "+------------+-----------+-----+\n",
      "|final_status|predictions|count|\n",
      "+------------+-----------+-----+\n",
      "|           1|        0.0| 1029|\n",
      "|           0|        0.0| 4480|\n",
      "|           1|        1.0| 2417|\n",
      "|           0|        1.0| 2827|\n",
      "+------------+-----------+-----+\n",
      "\n",
      "F1 Score est 0.6533456904824644\n"
     ]
    },
    {
     "data": {
      "text/plain": [
       "score: Double = 0.6533456904824644\n"
      ]
     },
     "execution_count": 41,
     "metadata": {},
     "output_type": "execute_result"
    }
   ],
   "source": [
    "val score = evaluator.evaluate(dfWithPredictions)\n",
    "\n",
    "dfWithPredictions.groupBy(\"final_status\",\"predictions\").count.show()\n",
    "\n",
    "println(\"F1 Score est \" + score)"
   ]
  },
  {
   "cell_type": "code",
   "execution_count": 44,
   "metadata": {},
   "outputs": [],
   "source": [
    "// Saving model\n",
    "\n",
    "validationModel.save(\"/home/p5hngk/Downloads/GitHub/INF_729---Introduction_au_framework_Hadoop/cours-spark-telecom-master/model/LogisticRegression2\")"
   ]
  },
  {
   "cell_type": "markdown",
   "metadata": {},
   "source": [
    "***Remarque :*** On peut également évaluer la précision avec le modèle suivant"
   ]
  },
  {
   "cell_type": "code",
   "execution_count": 45,
   "metadata": {},
   "outputs": [
    {
     "name": "stdout",
     "output_type": "stream",
     "text": [
      "Precision obtenue : 0.6414023993304194\n"
     ]
    },
    {
     "data": {
      "text/plain": [
       "evaluator_acc: org.apache.spark.ml.evaluation.MulticlassClassificationEvaluator = mcEval_f7a1deaef59d\n",
       "accuracy: Double = 0.6414023993304194\n"
      ]
     },
     "execution_count": 45,
     "metadata": {},
     "output_type": "execute_result"
    }
   ],
   "source": [
    "// Evaluer la precision (accuracy)\n",
    "    val evaluator_acc = new MulticlassClassificationEvaluator()\n",
    "      .setLabelCol(\"final_status\")\n",
    "      .setPredictionCol(\"predictions\")\n",
    "      .setMetricName(\"accuracy\")\n",
    "\n",
    "    // obtention de la mesure de performance\n",
    "    val accuracy = evaluator_acc.evaluate(dfWithPredictions)\n",
    "    println(\"Precision obtenue : \" + accuracy)"
   ]
  },
  {
   "cell_type": "markdown",
   "metadata": {},
   "source": [
    "-----------------------------------------\n",
    "----------------------------------------\n",
    "------------------------------------"
   ]
  },
  {
   "cell_type": "code",
   "execution_count": null,
   "metadata": {},
   "outputs": [],
   "source": []
  }
 ],
 "metadata": {
  "kernelspec": {
   "display_name": "spylon-kernel",
   "language": "scala",
   "name": "spylon-kernel"
  },
  "language_info": {
   "codemirror_mode": "text/x-scala",
   "file_extension": ".scala",
   "help_links": [
    {
     "text": "MetaKernel Magics",
     "url": "https://metakernel.readthedocs.io/en/latest/source/README.html"
    }
   ],
   "mimetype": "text/x-scala",
   "name": "scala",
   "pygments_lexer": "scala",
   "version": "0.4.1"
  }
 },
 "nbformat": 4,
 "nbformat_minor": 4
}
