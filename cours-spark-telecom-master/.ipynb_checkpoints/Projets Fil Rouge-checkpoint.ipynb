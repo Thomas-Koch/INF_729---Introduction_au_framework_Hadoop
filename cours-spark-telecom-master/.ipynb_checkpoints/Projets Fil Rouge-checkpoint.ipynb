{
 "cells": [
  {
   "cell_type": "code",
   "execution_count": 1,
   "metadata": {},
   "outputs": [
    {
     "data": {
      "text/plain": [
       "Intitializing Scala interpreter ..."
      ]
     },
     "metadata": {},
     "output_type": "display_data"
    },
    {
     "data": {
      "text/plain": [
       "Spark Web UI available at http://192.168.1.22:4040\n",
       "SparkContext available as 'sc' (version = 2.4.4, master = local[*], app id = local-1572183220116)\n",
       "SparkSession available as 'spark'\n"
      ]
     },
     "metadata": {},
     "output_type": "display_data"
    },
    {
     "data": {
      "text/plain": [
       "import org.apache.spark.sql.DataFrame\n",
       "df: org.apache.spark.sql.DataFrame = [Choix 1: string, Choix 2: string ... 3 more fields]\n"
      ]
     },
     "execution_count": 1,
     "metadata": {},
     "output_type": "execute_result"
    }
   ],
   "source": [
    "import org.apache.spark.sql.DataFrame\n",
    "\n",
    "val df: DataFrame = spark\n",
    "  .read\n",
    "  .option(\"header\", true) // utilise la première ligne du (des) fichier(s) comme header\n",
    "  .option(\"inferSchema\", \"true\") // pour inférer le type de chaque colonne (Int, String, etc.)\n",
    "  .csv(\"/home/p5hngk/Downloads/GitHub/INF_729---Introduction_au_framework_Hadoop/cours-spark-telecom-master/FilRouge.csv\")"
   ]
  },
  {
   "cell_type": "code",
   "execution_count": 2,
   "metadata": {},
   "outputs": [
    {
     "name": "stdout",
     "output_type": "stream",
     "text": [
      "Nombre de lignes : 54\n",
      "Nombre de colonnes : 5\n"
     ]
    }
   ],
   "source": [
    "println(s\"Nombre de lignes : ${df.count}\")\n",
    "println(s\"Nombre de colonnes : ${df.columns.length}\")"
   ]
  },
  {
   "cell_type": "code",
   "execution_count": 3,
   "metadata": {},
   "outputs": [
    {
     "name": "stdout",
     "output_type": "stream",
     "text": [
      "+----------+--------------------+--------------------+--------------------+-------------+\n",
      "|   Choix 1|             Choix 2|             Choix 3|             Choix 4|      Choix 5|\n",
      "+----------+--------------------+--------------------+--------------------+-------------+\n",
      "|     ENGIE|               VALEO|              VEEPEE|             CIL4SYS|   Delta Dore|\n",
      "|    SAFRAN|              VEEPEE|              IDEMIA|                 IBM|        ENGIE|\n",
      "|       IBM|              VEEPEE|                AXYS|              IDEMIA|      Karavel|\n",
      "|     ENGIE|              TECNIP|          Delta Dore|             UBISOFT|        VALEO|\n",
      "|     ENGIE|              VEEPEE|Ministère des Armées|              TECNIP|       IDEMIA|\n",
      "|    SAFRAN|Ministère des Armées|              IDEMIA|                 IBM|       VEEPEE|\n",
      "|       IBM|              IDEMIA|              SAFRAN|               ENGIE|   Airbus D&S|\n",
      "|       IBM|              IDEMIA|              SAFRAN|          Airbus D&S|        ENGIE|\n",
      "|   UBISOFT|              VEEPEE|          Airbus D&S|              IDEMIA|          IBM|\n",
      "|    VEEPEE|             UBISOFT|              SAFRAN|                 IBM|        ENGIE|\n",
      "|       IBM|              SAFRAN|               ENGIE|             Karavel|    GROUPE HN|\n",
      "|    VEEPEE|          Airbus D&S|               ENGIE|                 IBM|        VALEO|\n",
      "|       IBM|              VEEPEE|              IDEMIA|             Karavel|      CIL4SYS|\n",
      "|       IBM|              IDEMIA|          Airbus D&S|               ENGIE|       VEEPEE|\n",
      "|       IBM|             UBISOFT|              IDEMIA|Ministère des Armées|        VALEO|\n",
      "|Airbus D&S|Ministère des Armées|              IDEMIA|                 IBM|       SAFRAN|\n",
      "|       IBM|          Airbus D&S|               ENGIE|              IDEMIA|BEARING POINT|\n",
      "|       IBM|              IDEMIA|             UBISOFT|              VEEPEE|         AXYS|\n",
      "|       IBM|             UBISOFT|                AXYS|              IDEMIA|       VEEPEE|\n",
      "|Airbus D&S|                 IBM|Ministère des Armées|              SAFRAN|       IDEMIA|\n",
      "+----------+--------------------+--------------------+--------------------+-------------+\n",
      "only showing top 20 rows\n",
      "\n"
     ]
    }
   ],
   "source": [
    "df.show()"
   ]
  },
  {
   "cell_type": "code",
   "execution_count": 4,
   "metadata": {},
   "outputs": [
    {
     "name": "stdout",
     "output_type": "stream",
     "text": [
      "+----------+-----+\n",
      "|   Choix 1|count|\n",
      "+----------+-----+\n",
      "|   CIL4SYS|    1|\n",
      "|   UBISOFT|    2|\n",
      "|    IDEMIA|    4|\n",
      "|    SAFRAN|    5|\n",
      "|Airbus D&S|    8|\n",
      "|    VEEPEE|    9|\n",
      "|     ENGIE|   11|\n",
      "|       IBM|   14|\n",
      "+----------+-----+\n",
      "\n"
     ]
    }
   ],
   "source": [
    "df.groupBy(\"Choix 1\").count.orderBy($\"count\".asc).show()"
   ]
  },
  {
   "cell_type": "code",
   "execution_count": 8,
   "metadata": {},
   "outputs": [],
   "source": [
    "df.groupBy(\"Choix 1\").count.orderBy($\"count\".asc).coalesce(1).write.csv(\"/home/p5hngk/Downloads/test\")"
   ]
  },
  {
   "cell_type": "code",
   "execution_count": 9,
   "metadata": {},
   "outputs": [
    {
     "name": "stdout",
     "output_type": "stream",
     "text": [
      "+--------------------+-----+\n",
      "|             Choix 2|count|\n",
      "+--------------------+-----+\n",
      "|               VALEO|    1|\n",
      "|             Karavel|    1|\n",
      "|                AXYS|    1|\n",
      "|          Delta Dore|    1|\n",
      "|                 IBM|    2|\n",
      "|Ministère des Armées|    3|\n",
      "|             UBISOFT|    4|\n",
      "|              SAFRAN|    4|\n",
      "|          Airbus D&S|    4|\n",
      "|               ENGIE|    5|\n",
      "|              TECNIP|    5|\n",
      "|              IDEMIA|   11|\n",
      "|              VEEPEE|   12|\n",
      "+--------------------+-----+\n",
      "\n"
     ]
    }
   ],
   "source": [
    "df.groupBy(\"Choix 2\").count.orderBy($\"count\".asc).show()"
   ]
  },
  {
   "cell_type": "code",
   "execution_count": 11,
   "metadata": {},
   "outputs": [],
   "source": [
    "df.groupBy(\"Choix 2\").count.orderBy($\"count\".asc).coalesce(1).write.csv(\"/home/p5hngk/Downloads/choix2\")"
   ]
  },
  {
   "cell_type": "code",
   "execution_count": 12,
   "metadata": {},
   "outputs": [
    {
     "name": "stdout",
     "output_type": "stream",
     "text": [
      "+--------------------+-----+\n",
      "|             Choix 3|count|\n",
      "+--------------------+-----+\n",
      "|          Delta Dore|    1|\n",
      "|       BEARING POINT|    2|\n",
      "|              TECNIP|    2|\n",
      "|             UBISOFT|    3|\n",
      "|                AXYS|    3|\n",
      "|               ENGIE|    3|\n",
      "|Ministère des Armées|    4|\n",
      "|              SAFRAN|    4|\n",
      "|              VEEPEE|    5|\n",
      "|               VALEO|    5|\n",
      "|                 IBM|    6|\n",
      "|              IDEMIA|    7|\n",
      "|          Airbus D&S|    9|\n",
      "+--------------------+-----+\n",
      "\n"
     ]
    }
   ],
   "source": [
    "df.groupBy(\"Choix 3\").count.orderBy($\"count\".asc).show() //.coalesce(1).write.csv(\"/home/p5hngk/Downloads/choix2\")"
   ]
  },
  {
   "cell_type": "code",
   "execution_count": 13,
   "metadata": {},
   "outputs": [],
   "source": [
    "df.groupBy(\"Choix 3\").count.orderBy($\"count\".asc).coalesce(1).write.csv(\"/home/p5hngk/Downloads/choix3\")"
   ]
  },
  {
   "cell_type": "code",
   "execution_count": 15,
   "metadata": {},
   "outputs": [
    {
     "name": "stdout",
     "output_type": "stream",
     "text": [
      "+--------------------+-----+\n",
      "|             Choix 4|count|\n",
      "+--------------------+-----+\n",
      "|              VEEPEE|    1|\n",
      "|       BEARING POINT|    1|\n",
      "|             CIL4SYS|    1|\n",
      "|              TECNIP|    1|\n",
      "|              SAFRAN|    2|\n",
      "|             UBISOFT|    2|\n",
      "|                AXYS|    2|\n",
      "|Ministère des Armées|    3|\n",
      "|             Karavel|    4|\n",
      "|          Airbus D&S|    5|\n",
      "|               ENGIE|    6|\n",
      "|              IDEMIA|    8|\n",
      "|               VALEO|    8|\n",
      "|                 IBM|   10|\n",
      "+--------------------+-----+\n",
      "\n"
     ]
    }
   ],
   "source": [
    "df.groupBy(\"Choix 4\").count.orderBy($\"count\".asc).show() //.coalesce(1).write.csv(\"/home/p5hngk/Downloads/choix2\")"
   ]
  },
  {
   "cell_type": "code",
   "execution_count": 16,
   "metadata": {},
   "outputs": [],
   "source": [
    "df.groupBy(\"Choix 4\").count.orderBy($\"count\".asc).coalesce(1).write.csv(\"/home/p5hngk/Downloads/choix4\")"
   ]
  },
  {
   "cell_type": "code",
   "execution_count": 17,
   "metadata": {},
   "outputs": [
    {
     "name": "stdout",
     "output_type": "stream",
     "text": [
      "+--------------------+-----+\n",
      "|             Choix 5|count|\n",
      "+--------------------+-----+\n",
      "|           GROUPE HN|    1|\n",
      "|                AXYS|    1|\n",
      "|              TECNIP|    1|\n",
      "|              SAFRAN|    2|\n",
      "|Ministère des Armées|    2|\n",
      "|          Delta Dore|    2|\n",
      "|             UBISOFT|    3|\n",
      "|       BEARING POINT|    3|\n",
      "|             Karavel|    3|\n",
      "|          Airbus D&S|    3|\n",
      "|             CIL4SYS|    4|\n",
      "|              VEEPEE|    4|\n",
      "|              IDEMIA|    5|\n",
      "|               VALEO|    6|\n",
      "|               ENGIE|    6|\n",
      "|                 IBM|    8|\n",
      "+--------------------+-----+\n",
      "\n"
     ]
    }
   ],
   "source": [
    "df.groupBy(\"Choix 5\").count.orderBy($\"count\".asc).show() //.coalesce(1).write.csv(\"/home/p5hngk/Downloads/choix2\")"
   ]
  },
  {
   "cell_type": "code",
   "execution_count": 18,
   "metadata": {},
   "outputs": [],
   "source": [
    "df.groupBy(\"Choix 5\").count.orderBy($\"count\".asc).coalesce(1).write.csv(\"/home/p5hngk/Downloads/choix5\")"
   ]
  }
 ],
 "metadata": {
  "kernelspec": {
   "display_name": "spylon-kernel",
   "language": "scala",
   "name": "spylon-kernel"
  },
  "language_info": {
   "codemirror_mode": "text/x-scala",
   "file_extension": ".scala",
   "help_links": [
    {
     "text": "MetaKernel Magics",
     "url": "https://metakernel.readthedocs.io/en/latest/source/README.html"
    }
   ],
   "mimetype": "text/x-scala",
   "name": "scala",
   "pygments_lexer": "scala",
   "version": "0.4.1"
  }
 },
 "nbformat": 4,
 "nbformat_minor": 2
}
